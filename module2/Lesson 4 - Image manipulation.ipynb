{
 "cells": [
  {
   "cell_type": "markdown",
   "id": "688795d2",
   "metadata": {},
   "source": [
    "# Module 2 - Lesson 3\n",
    "\n",
    "## Image manipulation: Basic geometric transformations\n",
    "\n",
    "### Objectives\n",
    "\n",
    "1. **Scaling**: Change the image size using diferent interpolation methods.\n",
    "2. **Rotation**: Rotate an image in an specific angle around a point.\n",
    "3. **Traslation**: Move an image in the bidimensional space."
   ]
  },
  {
   "cell_type": "markdown",
   "id": "7283bccd",
   "metadata": {},
   "source": [
    "## Scaling\n",
    "\n",
    "Scaling is the proces to change the weigh of an image. It can to make using the function '**cv2.resize()**'. It is important to choose the correct interpolation method to mantain the quality of the image."
   ]
  },
  {
   "cell_type": "code",
   "execution_count": 1,
   "id": "68b58fdf",
   "metadata": {},
   "outputs": [],
   "source": [
    "import cv2\n",
    "\n",
    "image = cv2.imread('../images/image1.png')\n",
    "dimensions = (lenght, high) = (300, 200) # New size\n",
    "scaled_image = cv2.resize(image, dimensions, interpolation=cv2.INTER_LINEAR)"
   ]
  },
  {
   "cell_type": "markdown",
   "id": "0a4b4ff9",
   "metadata": {},
   "source": [
    "## Rotation\n",
    "\n",
    "Image rotation it is realized among the cration of a rotation matrix and aplying with the function '**cv2.warpAffine()**'. This allow rotate an image around de center with an angle and scale specific."
   ]
  },
  {
   "cell_type": "code",
   "execution_count": 2,
   "id": "7f1618a2",
   "metadata": {},
   "outputs": [],
   "source": [
    "center = (lenght // 2, high // 2)\n",
    "rotation_matrix = cv2.getRotationMatrix2D(center, 45, 1)  # Rotate 45 degrees\n",
    "rotated_image = cv2.warpAffine(image, rotation_matrix, dimensions)"
   ]
  },
  {
   "cell_type": "markdown",
   "id": "9e00f411",
   "metadata": {},
   "source": [
    "## Traslation\n",
    "\n",
    "The traslation move the image in the x-y plane. This can be make with a transformation matrix aplied with '**cv2.warpAffine()**'."
   ]
  },
  {
   "cell_type": "code",
   "execution_count": 4,
   "id": "a126cd19",
   "metadata": {},
   "outputs": [],
   "source": [
    "import numpy as np\n",
    "\n",
    "traslation_matrix = np.float32([[1, 0, 100], [0, 1, 50]])  # Move 100 to the right, 50 to down\n",
    "traslated_image = cv2.warpAffine(image, traslation_matrix, dimensions)"
   ]
  },
  {
   "cell_type": "code",
   "execution_count": 5,
   "id": "40d27c29",
   "metadata": {},
   "outputs": [],
   "source": [
    "cv2.imshow('Original Image', image)\n",
    "cv2.imshow('Scaled Image', scaled_image)\n",
    "cv2.imshow('Rotated Image', rotated_image)\n",
    "cv2.imshow('Traslated Image', traslated_image)\n",
    "cv2.waitKey(0)\n",
    "cv2.destroyAllWindows()"
   ]
  }
 ],
 "metadata": {
  "kernelspec": {
   "display_name": "Python 3 (ipykernel)",
   "language": "python",
   "name": "python3"
  },
  "language_info": {
   "codemirror_mode": {
    "name": "ipython",
    "version": 3
   },
   "file_extension": ".py",
   "mimetype": "text/x-python",
   "name": "python",
   "nbconvert_exporter": "python",
   "pygments_lexer": "ipython3",
   "version": "3.11.5"
  }
 },
 "nbformat": 4,
 "nbformat_minor": 5
}
