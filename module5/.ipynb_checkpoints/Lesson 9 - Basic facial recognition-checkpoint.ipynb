{
 "cells": [
  {
   "cell_type": "markdown",
   "id": "121d19ef",
   "metadata": {},
   "source": [
    "# Module 5 - Lesson 1\n",
    "\n",
    "## Basic facial recognition and features detection\n",
    "\n",
    "### Objectives\n",
    "\n",
    "1. **Facial recognition**: Learn to detect and recognise faces in images and videos using OpenCV.\n",
    "2. **Features detection**: Introduce methods to identify and follow specific facial features as eyes, nose and mouth. "
   ]
  },
  {
   "cell_type": "markdown",
   "id": "2ca9142d",
   "metadata": {},
   "source": [
    "## Facial recognition\n",
    "\n",
    "OpenCV offer support to facial recognition among cascade clasifiers pretrained, as Harr Cascades, that are effective to faces detection in images."
   ]
  },
  {
   "cell_type": "code",
   "execution_count": 2,
   "id": "ef7029ad",
   "metadata": {},
   "outputs": [],
   "source": [
    "import cv2\n",
    "\n",
    "# Load the clasifier pre-trained.\n",
    "face_cascade = cv2.CascadeClassifier(cv2.data.haarcascades + 'haarcascade_frontalface_default.xml')\n",
    "\n",
    "image = cv2.imread('../images/image1.png')\n",
    "gray = cv2.cvtColor(image, cv2.COLOR_BGR2GRAY)\n",
    "\n",
    "# Face detection\n",
    "faces = face_cascade.detectMultiScale(gray, scaleFactor=1.1, minNeighbors=5, minSize=(30, 30))\n",
    "\n",
    "# Draw rectangles around the detected faces\n",
    "for (x, y, w, h) in faces:\n",
    "    cv2.rectangle(image, (x, y), (x+w, y+h), (255, 0, 0), 2)\n",
    "    \n",
    "cv2.imshow('Faces detection', image)\n",
    "cv2.waitKey(0)\n",
    "cv2.destroyAllWindows()"
   ]
  },
  {
   "cell_type": "markdown",
   "id": "0a306fb3",
   "metadata": {},
   "source": [
    "## Features detection\n",
    "\n",
    "Once the faces are detected, we can use similar techniques to detect specific features into the face, as eyes, nose and mouth."
   ]
  },
  {
   "cell_type": "code",
   "execution_count": 5,
   "id": "2aecee9c",
   "metadata": {},
   "outputs": [],
   "source": [
    "# Load eye clasifyiers\n",
    "eye_cascade = cv2.CascadeClassifier(cv2.data.haarcascades + 'haarcascade_eye.xml')\n",
    "\n",
    "for (x, y, w, h) in faces:\n",
    "    roi_gray = gray[y:y+h, x:x+w]\n",
    "    roi_color = image[y:y+h, x:x+w]\n",
    "    eyes = eye_cascade.detectMultiScale(roi_gray)\n",
    "    for (ex, ey, ew, eh) in eyes:\n",
    "        cv2.rectangle(roi_color, (ex, ey), (ex+ew, ey+eh), (0, 255, 0), 2)\n",
    "        \n",
    "cv2.imshow('Faces detection', image)\n",
    "cv2.waitKey(0)\n",
    "cv2.destroyAllWindows()   "
   ]
  }
 ],
 "metadata": {
  "kernelspec": {
   "display_name": "Python 3 (ipykernel)",
   "language": "python",
   "name": "python3"
  },
  "language_info": {
   "codemirror_mode": {
    "name": "ipython",
    "version": 3
   },
   "file_extension": ".py",
   "mimetype": "text/x-python",
   "name": "python",
   "nbconvert_exporter": "python",
   "pygments_lexer": "ipython3",
   "version": "3.11.5"
  }
 },
 "nbformat": 4,
 "nbformat_minor": 5
}
