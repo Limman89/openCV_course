{
 "cells": [
  {
   "cell_type": "markdown",
   "id": "41918b95",
   "metadata": {},
   "source": [
    "# Module 4 - Lesson 3\n",
    "\n",
    "## Video motion detection and object tracking\n",
    "\n",
    "### Objective\n",
    "\n",
    "1. **Video motion detection**: Use simples techniques to detect video motion in a video.\n",
    "2. **Object tracking**: Object tracking along the time in a video."
   ]
  },
  {
   "cell_type": "markdown",
   "id": "9bf956a9",
   "metadata": {},
   "source": [
    "## Video motion detection and object tracking\n",
    "\n",
    "The object tracking and the videomotion detection are fundamental in areas as the security and autonomous vehicles. OvenCV offer some tools for these tasks."
   ]
  },
  {
   "cell_type": "code",
   "execution_count": 14,
   "id": "abaa0707",
   "metadata": {},
   "outputs": [],
   "source": [
    "import cv2\n",
    "import numpy as np\n",
    "\n",
    "capture = cv2.VideoCapture(0)\n",
    "ret, frame1 = capture.read()\n",
    "ret, frame2 = capture.read()\n",
    "\n",
    "while capture.isOpened():\n",
    "    diff = cv2.absdiff(frame1, frame2)\n",
    "    gray = cv2.cvtColor(diff, cv2.COLOR_BGR2GRAY)\n",
    "    blur = cv2.GaussianBlur(gray, (21, 21), 0)\n",
    "    _, thresh = cv2.threshold(blur, 20, 255, cv2.THRESH_BINARY)\n",
    "    dilated = cv2.dilate(thresh, None, iterations=5)\n",
    "    edges, _ = cv2.findContours(dilated, cv2.RETR_TREE, cv2.CHAIN_APPROX_SIMPLE)\n",
    "    \n",
    "    for edge in edges:\n",
    "        (x, y, w, h) = cv2.boundingRect(edge)\n",
    "        if cv2.contourArea(edge) < 1500:\n",
    "            continue\n",
    "        cv2.rectangle(frame1, (x, y), (x+w, y+h), (0, 255, 0), 2)\n",
    "        cv2.putText(frame1, 'Status: {}'.format('Movement'), (10, 20), cv2.FONT_HERSHEY_SIMPLEX,\n",
    "                                               1, (0, 0, 255), 3)\n",
    "        \n",
    "    cv2.imshow('feed', frame1)\n",
    "    frame1 = frame2\n",
    "    ret, frame2 = capture.read()\n",
    "    \n",
    "    if cv2.waitKey(40) == 27:\n",
    "        break\n",
    "        \n",
    "capture.release()\n",
    "cv2.destroyAllWindows()    "
   ]
  }
 ],
 "metadata": {
  "kernelspec": {
   "display_name": "Python 3 (ipykernel)",
   "language": "python",
   "name": "python3"
  },
  "language_info": {
   "codemirror_mode": {
    "name": "ipython",
    "version": 3
   },
   "file_extension": ".py",
   "mimetype": "text/x-python",
   "name": "python",
   "nbconvert_exporter": "python",
   "pygments_lexer": "ipython3",
   "version": "3.11.5"
  }
 },
 "nbformat": 4,
 "nbformat_minor": 5
}
