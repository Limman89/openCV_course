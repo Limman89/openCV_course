{
 "cells": [
  {
   "cell_type": "markdown",
   "id": "8cf82410",
   "metadata": {},
   "source": [
    "# Module 1 - Lesson 1\n",
    "## First steps with OpenCV: Read and write images\n",
    "\n",
    "### Objectives\n",
    "1. **Load images**: Learn to load images from the disc using OpenCV.\n",
    "2. **Image Visualization**: Show images en a window using OpenCV functions.\n",
    "3. **Save images**: Save images procesed or modified in the disc."
   ]
  },
  {
   "cell_type": "markdown",
   "id": "7ba6db83",
   "metadata": {},
   "source": [
    "## Load Images\n",
    "\n",
    "Open CV get the function '**cv2.imread()**' to read a image from the disc. This function can load images by diferent modes, in color or in grey scale.\n",
    "\n",
    "```\n",
    "image = cv2.imread(\"image_path\", flag)\n",
    "```\n",
    "\n",
    "Where \n",
    "\n",
    "* '**image_path**': A string representing the complet rute of the image to load.\n",
    "* '**flag**': Specify the load mode, i.e., '**cv2.IMREAD_COLOR**' to load the image in color mode or '**cv2.IMREAD_GRAYSCALE**' in grays scale."
   ]
  },
  {
   "cell_type": "markdown",
   "id": "9b80cf16",
   "metadata": {},
   "source": [
    "## Visualize images\n",
    "\n",
    "To visualize images, we use the function '**cv2.imshow()**', this function create a window to show the image.\n",
    "\n",
    "```\n",
    "cv2.imshow(\"Window Title\", image)\n",
    "cv2.waitKey(0)\n",
    "cv2.destroyAllWindows()\n",
    "```\n",
    "\n",
    "Where\n",
    "\n",
    "* '**\"Window Title\"**': The window name where the image will be showed.\n",
    "* '**image**': The image to show.\n",
    "* '**cv2.waitKey(0)**': Wait to push a key to continue. The argument '**0**' means \"wait indefinitelly\".\n",
    "* '**cv2.destroyAllWindows()**': Close all open windows."
   ]
  },
  {
   "cell_type": "markdown",
   "id": "9b238d33",
   "metadata": {},
   "source": [
    "## Save images\n",
    "\n",
    "After processing or modifing images, is possible to save the reslult. This is made using the function '**cv2.imwrite()**'\n",
    "\n",
    "```\n",
    "cv2.imwrite(\"output_path.jpg\", image)\n",
    "```\n",
    "\n",
    "Where\n",
    "\n",
    "* '**output_path.jpg**': The path where will be saved the image.\n",
    "* '**image**': The image to save."
   ]
  },
  {
   "cell_type": "markdown",
   "id": "d2984137",
   "metadata": {},
   "source": [
    "## Example"
   ]
  },
  {
   "cell_type": "code",
   "execution_count": 5,
   "id": "03c0ed4d",
   "metadata": {},
   "outputs": [],
   "source": [
    "import cv2\n",
    "\n",
    "# Loading the image\n",
    "image = cv2.imread('../images/image1.png', cv2.IMREAD_COLOR)\n",
    "\n",
    "# Show the image\n",
    "cv2.imshow('Visualization', image)\n",
    "cv2.waitKey(0)\n",
    "cv2.destroyAllWindows()"
   ]
  }
 ],
 "metadata": {
  "kernelspec": {
   "display_name": "Python 3 (ipykernel)",
   "language": "python",
   "name": "python3"
  },
  "language_info": {
   "codemirror_mode": {
    "name": "ipython",
    "version": 3
   },
   "file_extension": ".py",
   "mimetype": "text/x-python",
   "name": "python",
   "nbconvert_exporter": "python",
   "pygments_lexer": "ipython3",
   "version": "3.11.5"
  }
 },
 "nbformat": 4,
 "nbformat_minor": 5
}
