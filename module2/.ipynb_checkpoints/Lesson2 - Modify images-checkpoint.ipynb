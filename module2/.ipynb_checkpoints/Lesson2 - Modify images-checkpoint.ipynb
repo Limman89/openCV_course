{
 "cells": [
  {
   "cell_type": "markdown",
   "id": "4f5ece59",
   "metadata": {},
   "source": [
    "# Module 2 - Lesson 1\n",
    "\n",
    "## Accesing and modifying pixels\n",
    "\n",
    "### Objectives\n",
    "\n",
    "1. **Access to pixels**: Learn how read the pixels values in a image.\n",
    "2. **Modify the pixels**: Learn how to change the pixels values to modify the image."
   ]
  },
  {
   "cell_type": "markdown",
   "id": "2944a771",
   "metadata": {},
   "source": [
    "## Accessing to a pixel\n",
    "\n",
    "In OpenCV, an image is treated how a matrix (or array). Each pixel in an image can be accessed by coords. For color images, each pixel have tre values representing the color chanels (BGR- Blue, Green, Red)."
   ]
  },
  {
   "cell_type": "code",
   "execution_count": 1,
   "id": "3fda6f7e",
   "metadata": {},
   "outputs": [
    {
     "name": "stdout",
     "output_type": "stream",
     "text": [
      "The pixel value (B, G, R) is [ 90 122 145]\n"
     ]
    }
   ],
   "source": [
    "import cv2\n",
    "image = cv2.imread('../images/image1.png')\n",
    "\n",
    "# Reading the pixel in the position (10, 10)\n",
    "pixel = image[10, 10]\n",
    "print(f'The pixel value (B, G, R) is {pixel}')"
   ]
  },
  {
   "cell_type": "markdown",
   "id": "3e7b582d",
   "metadata": {},
   "source": [
    "## Modifying pixels\n",
    "\n",
    "\n",
    "Modify pixels is similar to accessing, but getting a new value for the pixel."
   ]
  },
  {
   "cell_type": "code",
   "execution_count": 2,
   "id": "b967917a",
   "metadata": {},
   "outputs": [],
   "source": [
    "# Modify the pixel in (10, 10) position to red.\n",
    "image[10, 10] = [0, 0, 255]  # BGR"
   ]
  },
  {
   "cell_type": "markdown",
   "id": "7a391df8",
   "metadata": {},
   "source": [
    "## Advanced operations\n",
    "\n",
    "We can do operations in regions in the image, this is useful tu aply efects or corrections in specific areas."
   ]
  },
  {
   "cell_type": "code",
   "execution_count": 3,
   "id": "881c9a3d",
   "metadata": {},
   "outputs": [],
   "source": [
    "# Chage a region of 100x100 pixels to green\n",
    "\n",
    "image[20:120, 30:130] = [0, 255, 0]"
   ]
  },
  {
   "cell_type": "code",
   "execution_count": 4,
   "id": "64319dda",
   "metadata": {},
   "outputs": [],
   "source": [
    "cv2.imshow('Modified image', image)\n",
    "cv2.waitKey(0)\n",
    "cv2.destroyAllWindows()"
   ]
  }
 ],
 "metadata": {
  "kernelspec": {
   "display_name": "Python 3 (ipykernel)",
   "language": "python",
   "name": "python3"
  },
  "language_info": {
   "codemirror_mode": {
    "name": "ipython",
    "version": 3
   },
   "file_extension": ".py",
   "mimetype": "text/x-python",
   "name": "python",
   "nbconvert_exporter": "python",
   "pygments_lexer": "ipython3",
   "version": "3.11.5"
  }
 },
 "nbformat": 4,
 "nbformat_minor": 5
}
