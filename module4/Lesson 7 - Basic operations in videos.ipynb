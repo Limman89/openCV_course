{
 "cells": [
  {
   "cell_type": "markdown",
   "id": "7f7382b3",
   "metadata": {},
   "source": [
    "# Module 4 - Lesson 2\n",
    "\n",
    "## Basic operation in Videos\n",
    "\n",
    "### Objectives\n",
    "\n",
    "\n",
    "1. **Frames manipulation**: Apply tranformations and efects in video frames.\n",
    "2. **Video savings**: Lear to save a processed video."
   ]
  },
  {
   "cell_type": "markdown",
   "id": "6e57a6a8",
   "metadata": {},
   "source": [
    "## Video manipulation and saving\n",
    "\n",
    "It is possible to apply the transformations leaned in before modules to any vido frame and after saving the results."
   ]
  },
  {
   "cell_type": "code",
   "execution_count": null,
   "id": "1f3a92dc",
   "metadata": {},
   "outputs": [],
   "source": [
    "import cv2\n",
    "\n",
    "capture = cv2.VideoCapture(0)\n",
    "\n",
    "# Define the codec and creating an object of VideoWriter\n",
    "fourcc = cv2.VideoWriter_fourcc(*'XVID')\n",
    "exit = cv2.VideoWriter('exit.avi', fourcc, 20.0, (640, 480))\n",
    "\n",
    "while(capture.isOpened()):\n",
    "    ret, frame = capture.read()\n",
    "    if ret:\n",
    "        frame = cv2.flip(frame, 0)  # Rotate the frame vertically\n",
    "        \n",
    "        # Write the rotated frame\n",
    "        exit.write(frame)\n",
    "        \n",
    "        cv2.imshow('frame', frame)\n",
    "        if cv2.waitKey(1) & 0xFF == ord('q'):\n",
    "            bread\n",
    "    else:\n",
    "        break\n",
    "        \n",
    "# Release all if the job is over\n",
    "capture.release()\n",
    "exit.release()"
   ]
  }
 ],
 "metadata": {
  "kernelspec": {
   "display_name": "Python 3 (ipykernel)",
   "language": "python",
   "name": "python3"
  },
  "language_info": {
   "codemirror_mode": {
    "name": "ipython",
    "version": 3
   },
   "file_extension": ".py",
   "mimetype": "text/x-python",
   "name": "python",
   "nbconvert_exporter": "python",
   "pygments_lexer": "ipython3",
   "version": "3.11.5"
  }
 },
 "nbformat": 4,
 "nbformat_minor": 5
}
