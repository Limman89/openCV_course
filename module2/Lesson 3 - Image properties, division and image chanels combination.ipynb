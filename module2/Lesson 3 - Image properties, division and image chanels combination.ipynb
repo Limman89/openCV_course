{
 "cells": [
  {
   "cell_type": "markdown",
   "id": "4df588be",
   "metadata": {},
   "source": [
    "# Module 2 - Lesson 2\n",
    "\n",
    "## Image properties, division and image chanels combination\n",
    "\n",
    "### Objectives\n",
    "\n",
    "1. **Images properties**: Learn to access to basic properties, dimensions, chanel number and data type.\n",
    "2. **Chanels division**: Learn to separate a image in its individual color component.\n",
    "3. **Chanels combination**: Learn to combine individual chanesl in an image."
   ]
  },
  {
   "cell_type": "markdown",
   "id": "1c5e0b1a",
   "metadata": {},
   "source": [
    "## Image properties\n",
    "\n",
    "The basic properties in an image are accesibles among the matrix representing the image. These properties including dimensions, chanel number and data type in the pixels."
   ]
  },
  {
   "cell_type": "code",
   "execution_count": 2,
   "id": "b7caafb3",
   "metadata": {},
   "outputs": [
    {
     "name": "stdout",
     "output_type": "stream",
     "text": [
      "Dimensions: 526 x 922\n",
      "Chanels: 3\n"
     ]
    }
   ],
   "source": [
    "import cv2\n",
    "image = cv2.imread('../images/image1.png')\n",
    "high, weight = image.shape[:2]\n",
    "chanels = image.shape[2]\n",
    "print(f'Dimensions: {high} x {weight}')\n",
    "print(f'Chanels: {chanels}')"
   ]
  },
  {
   "cell_type": "markdown",
   "id": "19ab4660",
   "metadata": {},
   "source": [
    "## Chanel division\n",
    "\n",
    "To manipulate specific colors or analysis of the image, usually is useful work with any color chanel. OpenCV allow divide easilly these chanels."
   ]
  },
  {
   "cell_type": "code",
   "execution_count": 3,
   "id": "e7395cd2",
   "metadata": {},
   "outputs": [],
   "source": [
    "B, G, R = cv2.split(image)"
   ]
  },
  {
   "cell_type": "markdown",
   "id": "78569492",
   "metadata": {},
   "source": [
    "## Chanel combination\n",
    "\n",
    "After processing the color chanels individually, it can be necessary reconbine them to create a complet image."
   ]
  },
  {
   "cell_type": "code",
   "execution_count": 4,
   "id": "f4b0eafb",
   "metadata": {},
   "outputs": [],
   "source": [
    "combined_image = cv2.merge([B, G, R])"
   ]
  },
  {
   "cell_type": "code",
   "execution_count": null,
   "id": "44b40dc1",
   "metadata": {},
   "outputs": [],
   "source": [
    "cv2.imshow('Original Image', image)\n",
    "cv2.imshow('Modified Image', combined_image)\n",
    "cv2.waitKey(0)\n",
    "cv2.destroyAllWindows()"
   ]
  }
 ],
 "metadata": {
  "kernelspec": {
   "display_name": "Python 3 (ipykernel)",
   "language": "python",
   "name": "python3"
  },
  "language_info": {
   "codemirror_mode": {
    "name": "ipython",
    "version": 3
   },
   "file_extension": ".py",
   "mimetype": "text/x-python",
   "name": "python",
   "nbconvert_exporter": "python",
   "pygments_lexer": "ipython3",
   "version": "3.11.5"
  }
 },
 "nbformat": 4,
 "nbformat_minor": 5
}
