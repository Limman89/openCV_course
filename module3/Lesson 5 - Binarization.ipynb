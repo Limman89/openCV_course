{
 "cells": [
  {
   "cell_type": "markdown",
   "id": "d4b74ecc",
   "metadata": {},
   "source": [
    "# Module 3 - Lesson 2\n",
    "\n",
    "## Threesholding and binarisation of images\n",
    "\n",
    "### Objectives\n",
    "\n",
    "1. **Threesholding**: Convert an image in a binary form that facilitates segmentation and calsification of interesting areas."
   ]
  },
  {
   "cell_type": "markdown",
   "id": "46fa8098",
   "metadata": {},
   "source": [
    "## Threesholding\n",
    "\n",
    "The threesholding is a simple technique but powerfull to separate objects from the background. Consist on converting an gray binary image, where the pixels can to have any of the possible values."
   ]
  },
  {
   "cell_type": "code",
   "execution_count": 3,
   "id": "b9f9896f",
   "metadata": {},
   "outputs": [],
   "source": [
    "import cv2\n",
    "\n",
    "image = cv2.imread('../images/image1.png')\n",
    "\n",
    "_, image_treesholded = cv2.threshold(image, 128, 255, cv2.THRESH_BINARY)\n",
    "cv2.imshow('Threesholded Image', image_treesholded)\n",
    "cv2.waitKey(0)\n",
    "cv2.destroyAllWindows()"
   ]
  }
 ],
 "metadata": {
  "kernelspec": {
   "display_name": "Python 3 (ipykernel)",
   "language": "python",
   "name": "python3"
  },
  "language_info": {
   "codemirror_mode": {
    "name": "ipython",
    "version": 3
   },
   "file_extension": ".py",
   "mimetype": "text/x-python",
   "name": "python",
   "nbconvert_exporter": "python",
   "pygments_lexer": "ipython3",
   "version": "3.11.5"
  }
 },
 "nbformat": 4,
 "nbformat_minor": 5
}
