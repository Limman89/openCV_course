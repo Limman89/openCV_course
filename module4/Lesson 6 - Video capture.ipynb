{
 "cells": [
  {
   "cell_type": "markdown",
   "id": "4e2daba7",
   "metadata": {},
   "source": [
    "# Module 4 - Lesson 1\n",
    "\n",
    "## Video capture from a camera or file\n",
    "\n",
    "### Objectives\n",
    "\n",
    "1. **Video capture**: Learn to capture a video from a camara in real time or from a file.\n",
    "2. **Frame video procesing**: Understand how processing and manipulate any captured frame."
   ]
  },
  {
   "cell_type": "markdown",
   "id": "eba053c5",
   "metadata": {},
   "source": [
    "## Video Capture\n",
    "\n",
    "OpenCV allow a video capture both conected pc cameras and stored video files. Is used '**cv2.VideoCapture()**' to create an object that can be red video frames."
   ]
  },
  {
   "cell_type": "code",
   "execution_count": null,
   "id": "7eb0e5da",
   "metadata": {},
   "outputs": [],
   "source": [
    "import cv2\n",
    "\n",
    "# Initialize the video capture\n",
    "capture = cv2.VideoCapture(0)  # '0' is generally the first connected camera\n",
    "\n",
    "# Read and show each frame\n",
    "while True:\n",
    "    ret, frame = capture.read()\n",
    "    if not ret:\n",
    "        break\n",
    "    cv2.imshow('Video life', frame)\n",
    "    if cv2.waitKey(1) and 0xFF == ord('q'):  # Press 'q' to exit\n",
    "        break\n",
    "        \n",
    "# Release the capture and close the windows\n",
    "capture.release()\n",
    "cv2.destroyAllWindows()"
   ]
  }
 ],
 "metadata": {
  "kernelspec": {
   "display_name": "Python 3 (ipykernel)",
   "language": "python",
   "name": "python3"
  },
  "language_info": {
   "codemirror_mode": {
    "name": "ipython",
    "version": 3
   },
   "file_extension": ".py",
   "mimetype": "text/x-python",
   "name": "python",
   "nbconvert_exporter": "python",
   "pygments_lexer": "ipython3",
   "version": "3.11.5"
  }
 },
 "nbformat": 4,
 "nbformat_minor": 5
}
