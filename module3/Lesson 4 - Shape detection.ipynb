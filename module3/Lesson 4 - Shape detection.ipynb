{
 "cells": [
  {
   "cell_type": "markdown",
   "id": "3df3fe8d",
   "metadata": {},
   "source": [
    "# Module 3 - Lesson 1\n",
    "\n",
    "## Edge and Shape detection\n",
    "\n",
    "### Objectives\n",
    "\n",
    "1. **Edge dectection**: Using algorithms to detect the edgs in an image.\n",
    "2. **Outlines detection**: To find outlines in objects into an image."
   ]
  },
  {
   "cell_type": "markdown",
   "id": "fce8fa1d",
   "metadata": {},
   "source": [
    "## Edge detection\n",
    "\n",
    "The edge detection is a preliminar step in many procesing tasks of images and vision by computer to identify areas into an image with abrupt changes in intensity. The edge detector of Canny is an algorithm more used."
   ]
  },
  {
   "cell_type": "code",
   "execution_count": 1,
   "id": "5088ffe7",
   "metadata": {},
   "outputs": [],
   "source": [
    "import cv2\n",
    "\n",
    "image = cv2.imread('../images/image1.png')\n",
    "edges = cv2.Canny(image, 100, 200)  # Threeshold to detection\n",
    "\n",
    "cv2.imshow('Edges detected', edges)\n",
    "cv2.waitKey(0)\n",
    "cv2.destroyAllWindows()"
   ]
  },
  {
   "cell_type": "markdown",
   "id": "cb7e1177",
   "metadata": {},
   "source": [
    "## Outlines detection\n",
    "\n",
    "Once the edges have been detected, we can using them to find outlines, those are curves used tu make an analysis of forms and objects."
   ]
  },
  {
   "cell_type": "code",
   "execution_count": null,
   "id": "83b45efb",
   "metadata": {},
   "outputs": [],
   "source": [
    "outlines, hierarchy = cv2.findContours(edges, cv2.RETR_EXTERNAL, cv2.CHAIN_APPROX_SIMPLE)\n"
   ]
  }
 ],
 "metadata": {
  "kernelspec": {
   "display_name": "Python 3 (ipykernel)",
   "language": "python",
   "name": "python3"
  },
  "language_info": {
   "codemirror_mode": {
    "name": "ipython",
    "version": 3
   },
   "file_extension": ".py",
   "mimetype": "text/x-python",
   "name": "python",
   "nbconvert_exporter": "python",
   "pygments_lexer": "ipython3",
   "version": "3.11.5"
  }
 },
 "nbformat": 4,
 "nbformat_minor": 5
}
